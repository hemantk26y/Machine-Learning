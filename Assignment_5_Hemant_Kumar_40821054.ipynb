{
 "cells": [
  {
   "cell_type": "markdown",
   "id": "ce5e1c73",
   "metadata": {},
   "source": [
    "# Assignment 5"
   ]
  },
  {
   "cell_type": "code",
   "execution_count": 1,
   "id": "4422dc81",
   "metadata": {},
   "outputs": [
    {
     "name": "stdout",
     "output_type": "stream",
     "text": [
      "Imported Successfully\n"
     ]
    }
   ],
   "source": [
    "try:\n",
    "    import pandas as pd\n",
    "    import numpy as np\n",
    "    print(\"Imported Successfully\")\n",
    "except:\n",
    "    print(\"Something went wrong\")"
   ]
  },
  {
   "cell_type": "code",
   "execution_count": 2,
   "id": "af34bb22",
   "metadata": {},
   "outputs": [],
   "source": [
    "test_mnist = pd.read_csv(\"mnist_test.csv\")\n",
    "train_mnist = pd.read_csv(\"mnist_train.csv\")\n",
    "uni_class = set(train_mnist['label'])"
   ]
  },
  {
   "cell_type": "code",
   "execution_count": 3,
   "id": "65bb0055",
   "metadata": {},
   "outputs": [
    {
     "name": "stdout",
     "output_type": "stream",
     "text": [
      "Correct results =  8201\n",
      "Incorrect results =  1799\n",
      "Overall Accuracy of our KNN algorithm for MNIST data is = 82.01 %\n"
     ]
    }
   ],
   "source": [
    "np_train_data = np.array(np.zeros((60000,785)),dtype=\"int\")\n",
    "x_test,y_test = np.array(np.zeros((10000,784)),dtype=\"int\"),np.array(np.zeros((10000,)),dtype=\"int\")\n",
    "for i in range(len(train_mnist)):\n",
    "    np_train_data[i] = train_mnist.iloc[i][:]\n",
    "    \n",
    "for j in range(len(test_mnist)):\n",
    "    x_test[j] = test_mnist.iloc[j][1:]\n",
    "    y_test[j] = test_mnist.iloc[j][0]\n",
    "    \n",
    "clusters = {}\n",
    "for val in uni_class:\n",
    "     clusters[val]= np_train_data[np.where(np_train_data[:,0]==val)][:,1:]\n",
    "        \n",
    "clusters_20 = {}\n",
    "for i in clusters.keys():\n",
    "    np.random.shuffle(clusters[i])\n",
    "    for j in range(1,6):\n",
    "        clusters_20[f\"_{i}_{j}\"]=clusters[i][int(len(clusters[i])*0.2*(j-1)):int(len(clusters[i])*0.2*j)]\n",
    "        \n",
    "c = [f\"mean{val}\" for val in clusters_20.keys()]\n",
    "mean = [np.mean(clusters_20[digit],axis = 0) for digit in clusters_20.keys()]\n",
    "means = dict(zip(c,mean))\n",
    "\n",
    "def test(x_test):\n",
    "    x = [val for val in clusters_20.keys()]\n",
    "    y = []\n",
    "    for val in means.keys():\n",
    "        y.append(np.sqrt(np.sum(np.square(np.subtract(means[val],x_test)))).round(3))\n",
    "    dis = list(zip(y,x))\n",
    "    dis.sort()\n",
    "    dis\n",
    "    min_5 = []\n",
    "    for i in range(5):\n",
    "        min_5.append(int(dis[i][1][1]))\n",
    "    uni_can = set(min_5)\n",
    "    v_count = []\n",
    "    for uni in uni_can:\n",
    "        v_count.append(min_5.count(uni))\n",
    "    result_box = dict(zip(uni_can,v_count))\n",
    "    for result in result_box.keys():\n",
    "        if result_box[result]==max(result_box.values()):\n",
    "            return result\n",
    "        \n",
    "mlp_op = np.empty(0)\n",
    "for data_point in x_test:\n",
    "    mlp_op = np.append(mlp_op,test(data_point))\n",
    "    \n",
    "correct = 0\n",
    "incorrect = 0\n",
    "for i in range(len(mlp_op)):\n",
    "    if mlp_op[i]==y_test[i]:\n",
    "        correct+=1\n",
    "    else:\n",
    "        incorrect+=1\n",
    "print('Correct results = ',correct)\n",
    "print('Incorrect results = ',incorrect)\n",
    "accuracy = np.multiply(np.divide(correct,len(y_test)),100)\n",
    "print(f\"Overall Accuracy of our KNN algorithm for MNIST data is = {accuracy} %\")"
   ]
  },
  {
   "cell_type": "code",
   "execution_count": 4,
   "id": "25788065",
   "metadata": {},
   "outputs": [
    {
     "name": "stdout",
     "output_type": "stream",
     "text": [
      "Total of number of 0 class =  980\n",
      "correct results for 0 class =  878\n",
      "incorrect results for 0 class =  102\n",
      "Accuracy of our KNN algorithm for MNIST data with 0 class is = 89.59 %\n",
      "Total of number of 1 class =  1135\n",
      "correct results for 1 class =  1092\n",
      "incorrect results for 1 class =  43\n",
      "Accuracy of our KNN algorithm for MNIST data with 1 class is = 96.21 %\n",
      "Total of number of 2 class =  1032\n",
      "correct results for 2 class =  784\n",
      "incorrect results for 2 class =  248\n",
      "Accuracy of our KNN algorithm for MNIST data with 2 class is = 75.97 %\n",
      "Total of number of 3 class =  1010\n",
      "correct results for 3 class =  816\n",
      "incorrect results for 3 class =  194\n",
      "Accuracy of our KNN algorithm for MNIST data with 3 class is = 80.79 %\n",
      "Total of number of 4 class =  982\n",
      "correct results for 4 class =  812\n",
      "incorrect results for 4 class =  170\n",
      "Accuracy of our KNN algorithm for MNIST data with 4 class is = 82.69 %\n",
      "Total of number of 5 class =  892\n",
      "correct results for 5 class =  605\n",
      "incorrect results for 5 class =  287\n",
      "Accuracy of our KNN algorithm for MNIST data with 5 class is = 67.83 %\n",
      "Total of number of 6 class =  958\n",
      "correct results for 6 class =  823\n",
      "incorrect results for 6 class =  135\n",
      "Accuracy of our KNN algorithm for MNIST data with 6 class is = 85.91 %\n",
      "Total of number of 7 class =  1028\n",
      "correct results for 7 class =  859\n",
      "incorrect results for 7 class =  169\n",
      "Accuracy of our KNN algorithm for MNIST data with 7 class is = 83.56 %\n",
      "Total of number of 8 class =  974\n",
      "correct results for 8 class =  720\n",
      "incorrect results for 8 class =  254\n",
      "Accuracy of our KNN algorithm for MNIST data with 8 class is = 73.92 %\n",
      "Total of number of 9 class =  1009\n",
      "correct results for 9 class =  812\n",
      "incorrect results for 9 class =  197\n",
      "Accuracy of our KNN algorithm for MNIST data with 9 class is = 80.48 %\n"
     ]
    }
   ],
   "source": [
    "for i in np.unique(y_test):\n",
    "    correct,incorrect=0,0\n",
    "    for j in range(len(mlp_op)):\n",
    "        if y_test[j]==i:\n",
    "            if mlp_op[j]==y_test[j]:\n",
    "                correct+=1\n",
    "            else:\n",
    "                incorrect+=1\n",
    "    print(f'Total of number of {i} class = ',np.count_nonzero(y_test==i))\n",
    "    print(f'correct results for {i} class = ',correct)\n",
    "    print(f'incorrect results for {i} class = ',incorrect)\n",
    "    accuracy = np.multiply(np.divide(correct,np.count_nonzero(y_test==i)),100).round(2)\n",
    "    print(f\"Accuracy of our KNN algorithm for MNIST data with {i} class is = {accuracy} %\")"
   ]
  }
 ],
 "metadata": {
  "kernelspec": {
   "display_name": "Python 3 (ipykernel)",
   "language": "python",
   "name": "python3"
  },
  "language_info": {
   "codemirror_mode": {
    "name": "ipython",
    "version": 3
   },
   "file_extension": ".py",
   "mimetype": "text/x-python",
   "name": "python",
   "nbconvert_exporter": "python",
   "pygments_lexer": "ipython3",
   "version": "3.9.15"
  }
 },
 "nbformat": 4,
 "nbformat_minor": 5
}
