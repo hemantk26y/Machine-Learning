{
 "cells": [
  {
   "cell_type": "markdown",
   "id": "fc3c7c40",
   "metadata": {},
   "source": [
    "# Assignment 3"
   ]
  },
  {
   "cell_type": "code",
   "execution_count": 1,
   "id": "1af7eb92",
   "metadata": {},
   "outputs": [
    {
     "name": "stdout",
     "output_type": "stream",
     "text": [
      "Imported Successfully\n"
     ]
    }
   ],
   "source": [
    "try:\n",
    "    import pandas as pd\n",
    "    import numpy as np\n",
    "    print(\"Imported Successfully\")\n",
    "except:\n",
    "    print(\"Something went wrong\")"
   ]
  },
  {
   "cell_type": "code",
   "execution_count": 2,
   "id": "8df38c74",
   "metadata": {},
   "outputs": [
    {
     "data": {
      "text/html": [
       "<div>\n",
       "<style scoped>\n",
       "    .dataframe tbody tr th:only-of-type {\n",
       "        vertical-align: middle;\n",
       "    }\n",
       "\n",
       "    .dataframe tbody tr th {\n",
       "        vertical-align: top;\n",
       "    }\n",
       "\n",
       "    .dataframe thead th {\n",
       "        text-align: right;\n",
       "    }\n",
       "</style>\n",
       "<table border=\"1\" class=\"dataframe\">\n",
       "  <thead>\n",
       "    <tr style=\"text-align: right;\">\n",
       "      <th></th>\n",
       "      <th>x1</th>\n",
       "      <th>x2</th>\n",
       "      <th>x3</th>\n",
       "      <th>x4</th>\n",
       "      <th>y</th>\n",
       "    </tr>\n",
       "  </thead>\n",
       "  <tbody>\n",
       "    <tr>\n",
       "      <th>0</th>\n",
       "      <td>5.1</td>\n",
       "      <td>3.5</td>\n",
       "      <td>1.4</td>\n",
       "      <td>0.2</td>\n",
       "      <td>Iris-Setosa</td>\n",
       "    </tr>\n",
       "    <tr>\n",
       "      <th>1</th>\n",
       "      <td>4.9</td>\n",
       "      <td>3.0</td>\n",
       "      <td>1.4</td>\n",
       "      <td>0.2</td>\n",
       "      <td>Iris-Setosa</td>\n",
       "    </tr>\n",
       "    <tr>\n",
       "      <th>2</th>\n",
       "      <td>4.7</td>\n",
       "      <td>3.2</td>\n",
       "      <td>1.3</td>\n",
       "      <td>0.2</td>\n",
       "      <td>Iris-Setosa</td>\n",
       "    </tr>\n",
       "    <tr>\n",
       "      <th>3</th>\n",
       "      <td>4.6</td>\n",
       "      <td>3.1</td>\n",
       "      <td>1.5</td>\n",
       "      <td>0.2</td>\n",
       "      <td>Iris-Setosa</td>\n",
       "    </tr>\n",
       "    <tr>\n",
       "      <th>4</th>\n",
       "      <td>5.0</td>\n",
       "      <td>3.6</td>\n",
       "      <td>1.4</td>\n",
       "      <td>0.2</td>\n",
       "      <td>Iris-Setosa</td>\n",
       "    </tr>\n",
       "  </tbody>\n",
       "</table>\n",
       "</div>"
      ],
      "text/plain": [
       "    x1   x2   x3   x4            y\n",
       "0  5.1  3.5  1.4  0.2  Iris-Setosa\n",
       "1  4.9  3.0  1.4  0.2  Iris-Setosa\n",
       "2  4.7  3.2  1.3  0.2  Iris-Setosa\n",
       "3  4.6  3.1  1.5  0.2  Iris-Setosa\n",
       "4  5.0  3.6  1.4  0.2  Iris-Setosa"
      ]
     },
     "execution_count": 2,
     "metadata": {},
     "output_type": "execute_result"
    }
   ],
   "source": [
    "iris_data = pd.read_csv(\"Iris.csv\")\n",
    "iris_data.head()"
   ]
  },
  {
   "cell_type": "code",
   "execution_count": 3,
   "id": "f8ee7be1",
   "metadata": {},
   "outputs": [
    {
     "data": {
      "text/plain": [
       "{'Iris-Setosa': 1, 'Iris-Virginica': 2, 'Iris-Versicolour': 3}"
      ]
     },
     "execution_count": 3,
     "metadata": {},
     "output_type": "execute_result"
    }
   ],
   "source": [
    "mapping = {}\n",
    "class_index = 1\n",
    "for class_ in set(iris_data['y']):\n",
    "    mapping[class_] = class_index\n",
    "    class_index += 1\n",
    "mapping"
   ]
  },
  {
   "cell_type": "code",
   "execution_count": 4,
   "id": "e4ebf940",
   "metadata": {},
   "outputs": [
    {
     "name": "stdout",
     "output_type": "stream",
     "text": [
      "Accuracy :  30.0  %\n"
     ]
    }
   ],
   "source": [
    "np_iris_data = np.zeros((150,4))\n",
    "y = []\n",
    "for i in range(len(iris_data)):\n",
    "    y.append(mapping[iris_data.iloc[i][-1]])\n",
    "    np_iris_data[i] = iris_data.iloc[i][:4]\n",
    "\n",
    "x_train, x_test = np.zeros((120,4)),np.zeros((30,4))\n",
    "y_train, y_test = np.zeros((120,)),np.zeros((30,))\n",
    "for i,j in zip(range(0,150,50),range(0,120,40)):\n",
    "    x_train[j:j+40] = np_iris_data[i:i+40]\n",
    "    y_train[j:j+40] = y[i:i+40]\n",
    "    \n",
    "for i,j in zip(range(40,150,50),range(0,30,10)):\n",
    "    x_test[j:j+10] = np_iris_data[i:i+10]\n",
    "    y_test[j:j+10] = y[i:i+10]\n",
    "\n",
    "c_0 = np.array([x_train[0:40,i].mean() for i in range(len(x_train[0,:]))])\n",
    "c_1 = np.array([x_train[40:80,i].mean() for i in range(len(x_train[0,:]))])\n",
    "c_2 = np.array([x_train[80:120,i].mean() for i in range(len(x_train[0,:]))])\n",
    "\n",
    "dist = lambda a,b: np.sqrt(np.sum((a-b)**2)).round(3)\n",
    "\n",
    "y_test_preds = []\n",
    "for s in x_test:\n",
    "    d = [dist(s,i) for i in [c_1,c_2,c_0]]\n",
    "    y_test_preds.append((d.index(min(d)))+1)\n",
    "\n",
    "Accuracy = ((sum(y_test==y_test_preds)/len(y_test))*100).round(2)\n",
    "print(\"Accuracy : \",Accuracy,\" %\")"
   ]
  },
  {
   "cell_type": "code",
   "execution_count": null,
   "id": "cb14ee79",
   "metadata": {},
   "outputs": [],
   "source": []
  }
 ],
 "metadata": {
  "kernelspec": {
   "display_name": "Python 3 (ipykernel)",
   "language": "python",
   "name": "python3"
  },
  "language_info": {
   "codemirror_mode": {
    "name": "ipython",
    "version": 3
   },
   "file_extension": ".py",
   "mimetype": "text/x-python",
   "name": "python",
   "nbconvert_exporter": "python",
   "pygments_lexer": "ipython3",
   "version": "3.11.4"
  }
 },
 "nbformat": 4,
 "nbformat_minor": 5
}
