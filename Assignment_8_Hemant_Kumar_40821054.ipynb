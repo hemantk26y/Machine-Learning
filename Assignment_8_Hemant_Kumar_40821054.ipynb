{
 "cells": [
  {
   "cell_type": "markdown",
   "id": "1dabf798",
   "metadata": {
    "id": "1dabf798"
   },
   "source": [
    "# Part 1 Logistic Regression on IRIS DataSet"
   ]
  },
  {
   "cell_type": "code",
   "execution_count": 1,
   "id": "54061b16",
   "metadata": {
    "id": "54061b16"
   },
   "outputs": [
    {
     "name": "stdout",
     "output_type": "stream",
     "text": [
      "Successful imported\n"
     ]
    }
   ],
   "source": [
    "try:\n",
    "    import matplotlib.pyplot as plt\n",
    "    import pandas as pd\n",
    "    import numpy as np\n",
    "    from sklearn.linear_model import LogisticRegression\n",
    "    from sklearn.metrics import classification_report, confusion_matrix\n",
    "    print(\"Successful imported\")\n",
    "except:\n",
    "    print(\"Something went wrong\")"
   ]
  },
  {
   "cell_type": "code",
   "execution_count": 2,
   "id": "b2c29921",
   "metadata": {
    "id": "b2c29921",
    "outputId": "250bd64d-9b54-49b3-ccb4-238dbdc2694c"
   },
   "outputs": [
    {
     "data": {
      "text/html": [
       "<div>\n",
       "<style scoped>\n",
       "    .dataframe tbody tr th:only-of-type {\n",
       "        vertical-align: middle;\n",
       "    }\n",
       "\n",
       "    .dataframe tbody tr th {\n",
       "        vertical-align: top;\n",
       "    }\n",
       "\n",
       "    .dataframe thead th {\n",
       "        text-align: right;\n",
       "    }\n",
       "</style>\n",
       "<table border=\"1\" class=\"dataframe\">\n",
       "  <thead>\n",
       "    <tr style=\"text-align: right;\">\n",
       "      <th></th>\n",
       "      <th>x1</th>\n",
       "      <th>x2</th>\n",
       "      <th>x3</th>\n",
       "      <th>x4</th>\n",
       "      <th>y</th>\n",
       "    </tr>\n",
       "  </thead>\n",
       "  <tbody>\n",
       "    <tr>\n",
       "      <th>0</th>\n",
       "      <td>5.1</td>\n",
       "      <td>3.5</td>\n",
       "      <td>1.4</td>\n",
       "      <td>0.2</td>\n",
       "      <td>Iris-Setosa</td>\n",
       "    </tr>\n",
       "    <tr>\n",
       "      <th>1</th>\n",
       "      <td>4.9</td>\n",
       "      <td>3.0</td>\n",
       "      <td>1.4</td>\n",
       "      <td>0.2</td>\n",
       "      <td>Iris-Setosa</td>\n",
       "    </tr>\n",
       "    <tr>\n",
       "      <th>2</th>\n",
       "      <td>4.7</td>\n",
       "      <td>3.2</td>\n",
       "      <td>1.3</td>\n",
       "      <td>0.2</td>\n",
       "      <td>Iris-Setosa</td>\n",
       "    </tr>\n",
       "    <tr>\n",
       "      <th>3</th>\n",
       "      <td>4.6</td>\n",
       "      <td>3.1</td>\n",
       "      <td>1.5</td>\n",
       "      <td>0.2</td>\n",
       "      <td>Iris-Setosa</td>\n",
       "    </tr>\n",
       "    <tr>\n",
       "      <th>4</th>\n",
       "      <td>5.0</td>\n",
       "      <td>3.6</td>\n",
       "      <td>1.4</td>\n",
       "      <td>0.2</td>\n",
       "      <td>Iris-Setosa</td>\n",
       "    </tr>\n",
       "  </tbody>\n",
       "</table>\n",
       "</div>"
      ],
      "text/plain": [
       "    x1   x2   x3   x4            y\n",
       "0  5.1  3.5  1.4  0.2  Iris-Setosa\n",
       "1  4.9  3.0  1.4  0.2  Iris-Setosa\n",
       "2  4.7  3.2  1.3  0.2  Iris-Setosa\n",
       "3  4.6  3.1  1.5  0.2  Iris-Setosa\n",
       "4  5.0  3.6  1.4  0.2  Iris-Setosa"
      ]
     },
     "execution_count": 2,
     "metadata": {},
     "output_type": "execute_result"
    }
   ],
   "source": [
    "# loading dataset\n",
    "\n",
    "data = pd.read_csv(\"Iris.csv\")\n",
    "data.head()"
   ]
  },
  {
   "cell_type": "code",
   "execution_count": 3,
   "id": "53ac1052",
   "metadata": {
    "id": "53ac1052"
   },
   "outputs": [
    {
     "data": {
      "text/plain": [
       "(array([[5.1, 3.5, 1.4, 0.2],\n",
       "        [4.9, 3. , 1.4, 0.2],\n",
       "        [4.7, 3.2, 1.3, 0.2],\n",
       "        [4.6, 3.1, 1.5, 0.2],\n",
       "        [5. , 3.6, 1.4, 0.2]]),\n",
       " [1, 1, 1, 1, 1])"
      ]
     },
     "execution_count": 3,
     "metadata": {},
     "output_type": "execute_result"
    }
   ],
   "source": [
    "# splittng the dataset\n",
    "\n",
    "x = data.drop(['y'], axis = 1).to_numpy()\n",
    "y= data['y'].to_numpy()\n",
    "uni_class = list(set(data['y']))\n",
    "modi_y = []\n",
    "for i in range(len(uni_class)):\n",
    "    for j in range(len(y)):\n",
    "        if uni_class[i]==y[j]:\n",
    "            modi_y.append(i+1)\n",
    "        else:\n",
    "            continue\n",
    "y = modi_y\n",
    "\n",
    "\n",
    "# Printing top 5 lines\n",
    "x[:5],y[:5]"
   ]
  },
  {
   "cell_type": "code",
   "execution_count": 4,
   "id": "047f857a",
   "metadata": {
    "id": "047f857a"
   },
   "outputs": [
    {
     "data": {
      "text/plain": [
       "LogisticRegression(random_state=0, solver='liblinear')"
      ]
     },
     "execution_count": 4,
     "metadata": {},
     "output_type": "execute_result"
    }
   ],
   "source": [
    "# initializing the model object with LogisticRegression class\n",
    "\n",
    "model = LogisticRegression(solver='liblinear', random_state=0).fit(x, y)\n",
    "model"
   ]
  },
  {
   "cell_type": "code",
   "execution_count": 5,
   "id": "494806c2",
   "metadata": {
    "id": "494806c2",
    "outputId": "351aafcb-df34-4917-e764-21bc44f1e2e5"
   },
   "outputs": [
    {
     "data": {
      "text/plain": [
       "array([1, 2, 3])"
      ]
     },
     "execution_count": 5,
     "metadata": {},
     "output_type": "execute_result"
    }
   ],
   "source": [
    "# unique class labels\n",
    "\n",
    "model_classes = model.classes_\n",
    "model_classes"
   ]
  },
  {
   "cell_type": "code",
   "execution_count": 6,
   "id": "a6b7c93a",
   "metadata": {
    "id": "a6b7c93a",
    "outputId": "b3405d04-a737-4d54-c946-c5e065a15a51"
   },
   "outputs": [
    {
     "data": {
      "text/plain": [
       "array([ 0.26421853,  1.09392467, -1.21470917])"
      ]
     },
     "execution_count": 6,
     "metadata": {},
     "output_type": "execute_result"
    }
   ],
   "source": [
    "# intercept\n",
    "\n",
    "m_intercept = model.intercept_\n",
    "m_intercept"
   ]
  },
  {
   "cell_type": "code",
   "execution_count": 7,
   "id": "669656e2",
   "metadata": {
    "id": "669656e2",
    "outputId": "6545ed7b-894f-42fa-c22b-84a5c3370e98"
   },
   "outputs": [
    {
     "data": {
      "text/plain": [
       "array([[ 0.41021713,  1.46416217, -2.26003266, -1.02103509],\n",
       "       [ 0.4275087 , -1.61211605,  0.5758173 , -1.40617325],\n",
       "       [-1.70751526, -1.53427768,  2.47096755,  2.55537041]])"
      ]
     },
     "execution_count": 7,
     "metadata": {},
     "output_type": "execute_result"
    }
   ],
   "source": [
    "# model coefficient\n",
    "\n",
    "m_coef = model.coef_\n",
    "m_coef"
   ]
  },
  {
   "cell_type": "code",
   "execution_count": 8,
   "id": "9b376a6f",
   "metadata": {
    "id": "9b376a6f",
    "outputId": "b0cb998c-c83a-4c9f-a0bb-41e710ac0c6e"
   },
   "outputs": [
    {
     "data": {
      "text/plain": [
       "array([[8.78030305e-01, 1.21958900e-01, 1.07949250e-05],\n",
       "       [7.97058292e-01, 2.02911413e-01, 3.02949242e-05],\n",
       "       [8.51997665e-01, 1.47976480e-01, 2.58550858e-05],\n",
       "       [8.23406019e-01, 1.76536159e-01, 5.78217704e-05],\n",
       "       [8.96034973e-01, 1.03953836e-01, 1.11907339e-05]])"
      ]
     },
     "execution_count": 8,
     "metadata": {},
     "output_type": "execute_result"
    }
   ],
   "source": [
    "m_pred_pb = model.predict_proba(x)\n",
    "m_pred_pb[:5]"
   ]
  },
  {
   "cell_type": "code",
   "execution_count": 9,
   "id": "3f7f7a5a",
   "metadata": {
    "id": "3f7f7a5a",
    "outputId": "b7b5e2c9-8041-4232-c69f-772eb5b7c162"
   },
   "outputs": [
    {
     "data": {
      "text/plain": [
       "array([1, 1, 1, 1, 1, 1, 1, 1, 1, 1, 1, 1, 1, 1, 1, 1, 1, 1, 1, 1, 1, 1,\n",
       "       1, 1, 1, 1, 1, 1, 1, 1, 1, 1, 1, 1, 1, 1, 1, 1, 1, 1, 1, 1, 1, 1,\n",
       "       1, 1, 1, 1, 1, 1, 2, 2, 2, 2, 2, 2, 2, 2, 2, 2, 2, 2, 2, 2, 2, 2,\n",
       "       3, 2, 2, 2, 3, 2, 2, 2, 2, 2, 2, 2, 2, 2, 2, 2, 2, 3, 3, 3, 2, 2,\n",
       "       2, 2, 2, 2, 2, 2, 2, 2, 2, 2, 2, 2, 3, 3, 3, 3, 3, 3, 3, 3, 3, 3,\n",
       "       3, 3, 3, 3, 3, 3, 3, 3, 3, 3, 3, 3, 3, 3, 3, 3, 3, 3, 3, 2, 3, 3,\n",
       "       3, 3, 3, 3, 3, 3, 3, 3, 3, 3, 3, 3, 3, 3, 3, 3, 3, 3])"
      ]
     },
     "execution_count": 9,
     "metadata": {},
     "output_type": "execute_result"
    }
   ],
   "source": [
    "# prediction of y with respect to x\n",
    "\n",
    "y_pred = model.predict(x)\n",
    "y_pred"
   ]
  },
  {
   "cell_type": "code",
   "execution_count": 10,
   "id": "d1e50c21",
   "metadata": {
    "id": "d1e50c21",
    "outputId": "08f72dd5-4337-42d9-d63c-de7ebf162aa1"
   },
   "outputs": [
    {
     "data": {
      "text/plain": [
       "0.96"
      ]
     },
     "execution_count": 10,
     "metadata": {},
     "output_type": "execute_result"
    }
   ],
   "source": [
    "# score by sklearn\n",
    "\n",
    "score = model.score(x, y)\n",
    "score"
   ]
  },
  {
   "cell_type": "code",
   "execution_count": 11,
   "id": "7110fa1f",
   "metadata": {
    "id": "7110fa1f",
    "outputId": "ec65353e-ff6d-4d9b-d825-ad3f5e4dd0ca"
   },
   "outputs": [
    {
     "name": "stdout",
     "output_type": "stream",
     "text": [
      "Accuracy from Scratch:  96.0  %\n"
     ]
    }
   ],
   "source": [
    "# Accuracy from scratch\n",
    "\n",
    "Accuracy = ((sum(y==y_pred)/len(y))*100).round(2)\n",
    "print(\"Accuracy from Scratch: \",Accuracy,\" %\")"
   ]
  },
  {
   "cell_type": "code",
   "execution_count": 12,
   "id": "55f7daf4",
   "metadata": {
    "id": "55f7daf4",
    "outputId": "4155093f-d026-4549-9644-a44b75c67bf7"
   },
   "outputs": [
    {
     "data": {
      "text/plain": [
       "array([[50,  0,  0],\n",
       "       [ 0, 45,  5],\n",
       "       [ 0,  1, 49]], dtype=int64)"
      ]
     },
     "execution_count": 12,
     "metadata": {},
     "output_type": "execute_result"
    }
   ],
   "source": [
    "# Confusion matrix by sklearn\n",
    "\n",
    "con_mat_sl = confusion_matrix(y, model.predict(x))\n",
    "con_mat_sl"
   ]
  },
  {
   "cell_type": "code",
   "execution_count": 13,
   "id": "77fb2630",
   "metadata": {
    "id": "77fb2630",
    "outputId": "7de0c898-fce7-4af6-8583-343c4e66eac5"
   },
   "outputs": [
    {
     "name": "stdout",
     "output_type": "stream",
     "text": [
      "The matrix created from scratch is True\n",
      "[[50  0  0]\n",
      " [ 0 45  5]\n",
      " [ 0  1 49]]\n"
     ]
    }
   ],
   "source": [
    "# Confusion Matrix from Scratch\n",
    "\n",
    "con_mat = np.zeros((len(uni_class),len(uni_class)),dtype = 'int64')\n",
    "for i in range(len(y)):\n",
    "    if y[i]==1:\n",
    "        if y[i]==y_pred[i]:\n",
    "            con_mat[0][0] += 1\n",
    "        elif y_pred[i] == 2:\n",
    "            con_mat[0][1] += 1\n",
    "        else:\n",
    "            con_mat[0][2] += 1\n",
    "\n",
    "    elif y[i]==2:\n",
    "        if y[i]==y_pred[i]:\n",
    "            con_mat[1][1] += 1\n",
    "        elif y_pred[i] == 1:\n",
    "            con_mat[1][0] += 1\n",
    "        else:\n",
    "            con_mat[1][2] += 1\n",
    "\n",
    "    else:\n",
    "        if y[i]==y_pred[i]:\n",
    "            con_mat[2][2] += 1\n",
    "        elif y_pred[i] == 1:\n",
    "            con_mat[2][0] += 1\n",
    "        else:\n",
    "            con_mat[2][1] += 1\n",
    "\n",
    "# To check correctness of Confusion matrix\n",
    "\n",
    "flag = False\n",
    "for i,j in zip(con_mat,con_mat_sl):\n",
    "    for v in range(len(con_mat)):\n",
    "        if i[v]==j[v]:\n",
    "            flag = True\n",
    "if flag==True:\n",
    "    print(\"The matrix created from scratch is True\")\n",
    "    print(con_mat)"
   ]
  },
  {
   "cell_type": "code",
   "execution_count": 14,
   "id": "560dd2da",
   "metadata": {
    "id": "560dd2da",
    "outputId": "ba08a464-ca6a-4b05-a2b1-c3f457fc5ab4"
   },
   "outputs": [
    {
     "data": {
      "image/png": "[encoded data removed]",
      "text/plain": [
       "<Figure size 800x800 with 1 Axes>"
      ]
     },
     "metadata": {},
     "output_type": "display_data"
    }
   ],
   "source": [
    "# Confusion Matrix Plot from Scratch with matplotlib.pyplot \n",
    "\n",
    "cm = con_mat\n",
    "fig, ax = plt.subplots(figsize=(8, 8))\n",
    "ax.imshow(cm)\n",
    "ax.grid(False)\n",
    "ax.xaxis.set(ticks=(0, 1, 2), ticklabels=('Predicted 1s', 'Predicted 2s','Predicted 3s'))\n",
    "ax.yaxis.set(ticks=(0, 1, 2), ticklabels=('Actual 1s', 'Actual 2s','Actual 3s'))\n",
    "ax.set_ylim(2.5, -0.5)\n",
    "for i in range(3):\n",
    "    for j in range(3):\n",
    "        ax.text(j, i, cm[i, j], ha='center', va='center', color='red')\n",
    "plt.show()"
   ]
  },
  {
   "cell_type": "code",
   "execution_count": 15,
   "id": "c98d57a3",
   "metadata": {
    "id": "c98d57a3",
    "outputId": "e7220da5-c17f-4c95-b558-57326e688fb7"
   },
   "outputs": [
    {
     "name": "stdout",
     "output_type": "stream",
     "text": [
      "Report from Sklearn\n",
      "              precision    recall  f1-score   support\n",
      "\n",
      "           1       1.00      1.00      1.00        50\n",
      "           2       0.98      0.90      0.94        50\n",
      "           3       0.91      0.98      0.94        50\n",
      "\n",
      "    accuracy                           0.96       150\n",
      "   macro avg       0.96      0.96      0.96       150\n",
      "weighted avg       0.96      0.96      0.96       150\n",
      "\n"
     ]
    }
   ],
   "source": [
    "# Report by Sklearn\n",
    "\n",
    "print(\"Report from Sklearn\")\n",
    "print(classification_report(y, model.predict(x)))"
   ]
  },
  {
   "cell_type": "code",
   "execution_count": 16,
   "id": "59059690",
   "metadata": {
    "id": "59059690",
    "outputId": "953f60d9-10d0-4160-bcd8-a9a463b728f8"
   },
   "outputs": [
    {
     "name": "stdout",
     "output_type": "stream",
     "text": [
      "Classwise Accuracy from Scratch\n",
      "Class1 1.0\n",
      "Class2 0.96\n",
      "Class3 0.96\n"
     ]
    }
   ],
   "source": [
    "# Classwise Accuracy from Scratch\n",
    "\n",
    "acc1 = (((cm[0,0]+cm[1,1]+cm[1,2]+cm[2,1]+cm[2,2])/\n",
    "         (cm[0,0]+cm[1,1]+cm[1,2]+cm[2,1]+cm[2,2]+cm[0,1]+cm[0,2]+cm[1,0]+cm[2,0]))).round(2)\n",
    "acc2 = (((cm[1,1]+cm[0,0]+cm[0,2]+cm[2,0]+cm[2,2])/\n",
    "         (cm[0,0]+cm[1,1]+cm[1,2]+cm[2,1]+cm[2,2]+cm[0,1]+cm[0,2]+cm[1,0]+cm[2,0]))).round(2)\n",
    "acc3 = (((cm[2,2]+cm[0,0]+cm[0,1]+cm[1,0]+cm[1,1])/\n",
    "         (cm[0,0]+cm[1,1]+cm[1,2]+cm[2,1]+cm[2,2]+cm[0,1]+cm[0,2]+cm[1,0]+cm[2,0]))).round(2)\n",
    "print(\"Classwise Accuracy from Scratch\")\n",
    "print(\"Class1\",acc1)\n",
    "print(\"Class2\",acc2)\n",
    "print(\"Class3\",acc3)"
   ]
  },
  {
   "cell_type": "code",
   "execution_count": 17,
   "id": "cdd24ffe",
   "metadata": {
    "id": "cdd24ffe",
    "outputId": "ba3a6841-7a96-4506-9444-9fcc282367f0"
   },
   "outputs": [
    {
     "name": "stdout",
     "output_type": "stream",
     "text": [
      "Class Wise Precision from Scratch\n",
      "Class1 1.0\n",
      "Class2 0.98\n",
      "Class3 0.91\n"
     ]
    }
   ],
   "source": [
    "# Class Wise Precision from Scratch\n",
    "\n",
    "precision1 = ((cm[0,0]/(cm[0,0]+cm[1,0]+cm[2,0]))).round(2)\n",
    "precision2 = ((cm[1,1]/(cm[0,1]+cm[1,1]+cm[2,1]))).round(2)\n",
    "precision3 = ((cm[2,2]/(cm[0,2]+cm[1,2]+cm[2,2]))).round(2)\n",
    "\n",
    "print(\"Class Wise Precision from Scratch\")\n",
    "print(\"Class1\",precision1)\n",
    "print(\"Class2\",precision2)\n",
    "print(\"Class3\",precision3)"
   ]
  },
  {
   "cell_type": "code",
   "execution_count": 18,
   "id": "b15e3644",
   "metadata": {
    "id": "b15e3644",
    "outputId": "c67f2ddc-305f-4cda-c25d-b6d66cbca4b2"
   },
   "outputs": [
    {
     "name": "stdout",
     "output_type": "stream",
     "text": [
      "Class Wise Recall from Scratch\n",
      "Class1 1.0\n",
      "Class2 0.9\n",
      "Class3 0.98\n"
     ]
    }
   ],
   "source": [
    "# Class Wise Recall from Scratch\n",
    "\n",
    "recall1 = ((cm[0,0]/(cm[0,0]+cm[0,1]+cm[0,2]))).round(2)\n",
    "recall2 = ((cm[1,1]/(cm[1,0]+cm[1,1]+cm[1,2]))).round(2)\n",
    "recall3 = ((cm[2,2]/(cm[2,0]+cm[2,1]+cm[2,2]))).round(2)\n",
    "\n",
    "print(\"Class Wise Recall from Scratch\")\n",
    "print(\"Class1\",recall1)\n",
    "print(\"Class2\",recall2)\n",
    "print(\"Class3\",recall3)"
   ]
  },
  {
   "cell_type": "code",
   "execution_count": 19,
   "id": "816118a9",
   "metadata": {
    "id": "816118a9",
    "outputId": "a313ddb9-de88-4681-e1f2-f240866fcfa5"
   },
   "outputs": [
    {
     "name": "stdout",
     "output_type": "stream",
     "text": [
      "Class Wise F1 Score from Scratch\n",
      "Class1 1.0\n",
      "Class2 0.94\n",
      "Class3 0.94\n"
     ]
    }
   ],
   "source": [
    "# Class Wise F1 Score from Scratch\n",
    "\n",
    "f11 = (2*(precision1*recall1)/(precision1+recall1)).round(2)\n",
    "f12 = (2*(precision2*recall2)/(precision2+recall2)).round(2)\n",
    "f13 = (2*(precision3*recall3)/(precision3+recall3)).round(2)\n",
    "print(\"Class Wise F1 Score from Scratch\")\n",
    "print(\"Class1\",f11)\n",
    "print(\"Class2\",f12)\n",
    "print(\"Class3\",f13)"
   ]
  },
  {
   "cell_type": "code",
   "execution_count": 20,
   "id": "524c2c5a",
   "metadata": {
    "id": "524c2c5a",
    "outputId": "62dd6d1e-023d-4602-cea6-1c185d1181fc"
   },
   "outputs": [
    {
     "name": "stdout",
     "output_type": "stream",
     "text": [
      "Class wise report from scratch\n",
      "Class  Precision  Recall   F1 \n",
      "Class1   1.0        1.0   1.0\n",
      "Class2   0.96       0.9   0.94\n",
      "Class3   0.96      0.98   0.94\n"
     ]
    }
   ],
   "source": [
    "# Report from Scratch\n",
    "\n",
    "print(\"Class wise report from scratch\")\n",
    "print(\"Class\" ,\" Precision \",\"Recall \",\" F1 \")\n",
    "print(\"Class1\",\" \",acc1,\" \",\"    \",recall1,\" \",f11 )\n",
    "print(\"Class2\",\" \",acc2,\" \",\"   \",recall2,\" \",f12 )\n",
    "print(\"Class3\",\" \",acc3,\" \",\"  \",recall3,\" \",f13 )"
   ]
  },
  {
   "cell_type": "markdown",
   "id": "df7d97fc",
   "metadata": {
    "id": "df7d97fc"
   },
   "source": [
    "# Part 2 Logisitc Regression on MNIST DataSet"
   ]
  },
  {
   "cell_type": "code",
   "execution_count": 21,
   "id": "a562c81d",
   "metadata": {
    "id": "a562c81d"
   },
   "outputs": [
    {
     "name": "stdout",
     "output_type": "stream",
     "text": [
      "Successful imported\n"
     ]
    }
   ],
   "source": [
    "try:\n",
    "    import matplotlib.pyplot as plt\n",
    "    import pandas as pd\n",
    "    import numpy as np\n",
    "    from sklearn.model_selection import train_test_split\n",
    "    from sklearn.linear_model import LogisticRegression\n",
    "    from sklearn.metrics import classification_report, confusion_matrix\n",
    "    print(\"Successful imported\")\n",
    "except:\n",
    "    print(\"Something went wrong\")"
   ]
  },
  {
   "cell_type": "code",
   "execution_count": 22,
   "id": "6676cfee",
   "metadata": {
    "id": "6676cfee",
    "outputId": "a7ba2350-81fd-4965-96dd-9a61cd5229b7"
   },
   "outputs": [
    {
     "data": {
      "text/plain": [
       "(   label  pixel0  pixel1  pixel2  pixel3  pixel4  pixel5  pixel6  pixel7  \\\n",
       " 0      5       0       0       0       0       0       0       0       0   \n",
       " 1      0       0       0       0       0       0       0       0       0   \n",
       " 2      4       0       0       0       0       0       0       0       0   \n",
       " 3      1       0       0       0       0       0       0       0       0   \n",
       " 4      9       0       0       0       0       0       0       0       0   \n",
       " \n",
       "    pixel8  ...  pixel774  pixel775  pixel776  pixel777  pixel778  pixel779  \\\n",
       " 0       0  ...         0         0         0         0         0         0   \n",
       " 1       0  ...         0         0         0         0         0         0   \n",
       " 2       0  ...         0         0         0         0         0         0   \n",
       " 3       0  ...         0         0         0         0         0         0   \n",
       " 4       0  ...         0         0         0         0         0         0   \n",
       " \n",
       "    pixel780  pixel781  pixel782  pixel783  \n",
       " 0         0         0         0         0  \n",
       " 1         0         0         0         0  \n",
       " 2         0         0         0         0  \n",
       " 3         0         0         0         0  \n",
       " 4         0         0         0         0  \n",
       " \n",
       " [5 rows x 785 columns],\n",
       "    label  pixel0  pixel1  pixel2  pixel3  pixel4  pixel5  pixel6  pixel7  \\\n",
       " 0      7       0       0       0       0       0       0       0       0   \n",
       " 1      2       0       0       0       0       0       0       0       0   \n",
       " 2      1       0       0       0       0       0       0       0       0   \n",
       " 3      0       0       0       0       0       0       0       0       0   \n",
       " 4      4       0       0       0       0       0       0       0       0   \n",
       " \n",
       "    pixel8  ...  pixel774  pixel775  pixel776  pixel777  pixel778  pixel779  \\\n",
       " 0       0  ...         0         0         0         0         0         0   \n",
       " 1       0  ...         0         0         0         0         0         0   \n",
       " 2       0  ...         0         0         0         0         0         0   \n",
       " 3       0  ...         0         0         0         0         0         0   \n",
       " 4       0  ...         0         0         0         0         0         0   \n",
       " \n",
       "    pixel780  pixel781  pixel782  pixel783  \n",
       " 0         0         0         0         0  \n",
       " 1         0         0         0         0  \n",
       " 2         0         0         0         0  \n",
       " 3         0         0         0         0  \n",
       " 4         0         0         0         0  \n",
       " \n",
       " [5 rows x 785 columns])"
      ]
     },
     "execution_count": 22,
     "metadata": {},
     "output_type": "execute_result"
    }
   ],
   "source": [
    "# loading the data\n",
    "\n",
    "mnist_train = pd.read_csv(\"mnist_train.csv\")\n",
    "mnist_test = pd.read_csv(\"mnist_test.csv\")\n",
    "mnist_train.head(),mnist_test.head()"
   ]
  },
  {
   "cell_type": "code",
   "execution_count": 23,
   "id": "767284be",
   "metadata": {
    "id": "767284be"
   },
   "outputs": [
    {
     "name": "stdout",
     "output_type": "stream",
     "text": [
      "training data \n",
      "features : [[0 0 0 ... 0 0 0]\n",
      " [0 0 0 ... 0 0 0]\n",
      " [0 0 0 ... 0 0 0]\n",
      " [0 0 0 ... 0 0 0]\n",
      " [0 0 0 ... 0 0 0]] labels : [5 0 4 1 9]\n",
      "testing data\n",
      "testing/validation data\n",
      "feature for testing : [[0 0 0 ... 0 0 0]\n",
      " [0 0 0 ... 0 0 0]\n",
      " [0 0 0 ... 0 0 0]\n",
      " [0 0 0 ... 0 0 0]\n",
      " [0 0 0 ... 0 0 0]] true labels : [7 2 1 0 4]\n"
     ]
    }
   ],
   "source": [
    "# Splitting Data\n",
    "\n",
    "x_train = mnist_train.drop(['label'], axis = 1).to_numpy()\n",
    "y_train = mnist_train['label'].to_numpy()\n",
    "\n",
    "x_test = mnist_test.drop(['label'], axis = 1).to_numpy()\n",
    "y_test = mnist_test['label'].to_numpy()\n",
    "\n",
    "# printing top 5 rows only\n",
    "print(\"training data \")\n",
    "print(\"features :\",x_train[:5],\"labels :\",y_train[:5])\n",
    "print(\"testing data\")\n",
    "print(\"testing/validation data\")\n",
    "print(\"feature for testing :\",x_test[:5],\"true labels :\",y_test[:5])"
   ]
  },
  {
   "cell_type": "code",
   "execution_count": 24,
   "id": "c647120f",
   "metadata": {
    "id": "c647120f",
    "outputId": "8cd13a54-5b0c-4ab5-8c67-cc2be3cf84e1"
   },
   "outputs": [
    {
     "name": "stderr",
     "output_type": "stream",
     "text": [
      "C:\\ProgramData\\Anaconda3\\lib\\site-packages\\sklearn\\linear_model\\_logistic.py:814: ConvergenceWarning: lbfgs failed to converge (status=1):\n",
      "STOP: TOTAL NO. of ITERATIONS REACHED LIMIT.\n",
      "\n",
      "Increase the number of iterations (max_iter) or scale the data as shown in:\n",
      "    https://scikit-learn.org/stable/modules/preprocessing.html\n",
      "Please also refer to the documentation for alternative solver options:\n",
      "    https://scikit-learn.org/stable/modules/linear_model.html#logistic-regression\n",
      "  n_iter_i = _check_optimize_result(\n"
     ]
    },
    {
     "data": {
      "text/plain": [
       "LogisticRegression(random_state=0)"
      ]
     },
     "execution_count": 24,
     "metadata": {},
     "output_type": "execute_result"
    }
   ],
   "source": [
    "# Solver Types “lbfgs”, “liblinear”, “newton-cg”, “newton-cholesky”, “sag” and “saga”\n",
    "\n",
    "model = LogisticRegression(solver='lbfgs', random_state=0)\n",
    "model.fit(x_train, y_train)"
   ]
  },
  {
   "cell_type": "code",
   "execution_count": 25,
   "id": "fb5593b9",
   "metadata": {
    "id": "fb5593b9",
    "outputId": "0c6d02b9-c23c-406b-c5f4-851b7d887dc9"
   },
   "outputs": [
    {
     "data": {
      "text/plain": [
       "array([0, 1, 2, 3, 4, 5, 6, 7, 8, 9], dtype=int64)"
      ]
     },
     "execution_count": 25,
     "metadata": {},
     "output_type": "execute_result"
    }
   ],
   "source": [
    "# Unique classes\n",
    "\n",
    "model_classes = model.classes_\n",
    "model_classes"
   ]
  },
  {
   "cell_type": "code",
   "execution_count": 26,
   "id": "1bc6f542",
   "metadata": {
    "id": "1bc6f542",
    "outputId": "1c4aa9b1-d737-4a7a-a1de-4d522a78a84b"
   },
   "outputs": [
    {
     "data": {
      "text/plain": [
       "array([-6.61940777e-05,  4.73003198e-05,  5.36508155e-05, -7.16795749e-05,\n",
       "        9.66198928e-06,  3.51673741e-04, -2.41824974e-05,  1.13381646e-04,\n",
       "       -3.43022956e-04, -7.05894060e-05])"
      ]
     },
     "execution_count": 26,
     "metadata": {},
     "output_type": "execute_result"
    }
   ],
   "source": [
    "# intercepts\n",
    "\n",
    "m_intercept = model.intercept_\n",
    "m_intercept"
   ]
  },
  {
   "cell_type": "code",
   "execution_count": 27,
   "id": "965d478d",
   "metadata": {
    "id": "965d478d",
    "outputId": "55597082-3830-4638-df79-1f0c33b94bb0"
   },
   "outputs": [
    {
     "data": {
      "text/plain": [
       "array([[0., 0., 0., ..., 0., 0., 0.],\n",
       "       [0., 0., 0., ..., 0., 0., 0.],\n",
       "       [0., 0., 0., ..., 0., 0., 0.],\n",
       "       ...,\n",
       "       [0., 0., 0., ..., 0., 0., 0.],\n",
       "       [0., 0., 0., ..., 0., 0., 0.],\n",
       "       [0., 0., 0., ..., 0., 0., 0.]])"
      ]
     },
     "execution_count": 27,
     "metadata": {},
     "output_type": "execute_result"
    }
   ],
   "source": [
    "# model coefficient\n",
    "\n",
    "m_coef = model.coef_\n",
    "m_coef"
   ]
  },
  {
   "cell_type": "code",
   "execution_count": 28,
   "id": "e5b3bdda",
   "metadata": {
    "id": "e5b3bdda",
    "outputId": "addba1f9-85cb-4228-a8f5-b4a5494081af"
   },
   "outputs": [
    {
     "data": {
      "text/plain": [
       "array([[1.26600041e-06, 1.14589529e-13, 2.15117193e-06, ...,\n",
       "        9.97526697e-01, 2.30630601e-05, 4.37542000e-04],\n",
       "       [9.45918491e-05, 8.26056959e-08, 9.96010209e-01, ...,\n",
       "        9.28978603e-20, 8.70378725e-05, 4.93600151e-15],\n",
       "       [2.02044200e-07, 9.86296088e-01, 7.02485733e-03, ...,\n",
       "        4.06337361e-04, 4.07638120e-03, 1.55343414e-04],\n",
       "       ...,\n",
       "       [2.35697238e-09, 4.26466279e-10, 3.03570604e-06, ...,\n",
       "        6.41000680e-04, 8.03381316e-03, 1.58350066e-02],\n",
       "       [3.83623842e-08, 8.84635216e-08, 3.79987268e-08, ...,\n",
       "        9.08514469e-10, 6.99678442e-04, 2.55804562e-08],\n",
       "       [6.37272763e-07, 1.46835901e-15, 8.05472469e-05, ...,\n",
       "        3.78430365e-12, 4.00247057e-08, 8.93502430e-11]])"
      ]
     },
     "execution_count": 28,
     "metadata": {},
     "output_type": "execute_result"
    }
   ],
   "source": [
    "# predict proba\n",
    "\n",
    "m_pred_pb = model.predict_proba(x_test)\n",
    "m_pred_pb"
   ]
  },
  {
   "cell_type": "code",
   "execution_count": 29,
   "id": "edd94ebe",
   "metadata": {
    "id": "edd94ebe"
   },
   "outputs": [
    {
     "data": {
      "text/plain": [
       "array([7, 2, 1, ..., 4, 5, 6], dtype=int64)"
      ]
     },
     "execution_count": 29,
     "metadata": {},
     "output_type": "execute_result"
    }
   ],
   "source": [
    "# Prediction for validate \n",
    "\n",
    "y_pred = model.predict(x_test)\n",
    "y_pred"
   ]
  },
  {
   "cell_type": "code",
   "execution_count": 30,
   "id": "c17ff29e",
   "metadata": {
    "id": "c17ff29e",
    "outputId": "f49872bb-b641-48e8-a956-da81c79761c2"
   },
   "outputs": [
    {
     "name": "stdout",
     "output_type": "stream",
     "text": [
      "Score from Sklearn 0.9255\n"
     ]
    }
   ],
   "source": [
    "# score by sklearn\n",
    "\n",
    "score = model.score(x_test, y_test)\n",
    "print(\"Score from Sklearn\",score)"
   ]
  },
  {
   "cell_type": "code",
   "execution_count": 31,
   "id": "dbd8ad22",
   "metadata": {
    "id": "dbd8ad22",
    "outputId": "0a996f8e-68a9-4e26-a33b-8967b7346479"
   },
   "outputs": [
    {
     "name": "stdout",
     "output_type": "stream",
     "text": [
      "Accuracy from Scratch:  92.55  %\n"
     ]
    }
   ],
   "source": [
    "# Accuracy from scratch\n",
    "\n",
    "Accuracy = ((sum(y_test==y_pred)/len(y_test))*100).round(2)\n",
    "print(\"Accuracy from Scratch: \",Accuracy,\" %\")"
   ]
  },
  {
   "cell_type": "code",
   "execution_count": 32,
   "id": "7bce0cd9",
   "metadata": {
    "id": "7bce0cd9",
    "outputId": "7e3754a9-530b-42ee-8b06-2bab7650c25e"
   },
   "outputs": [
    {
     "name": "stdout",
     "output_type": "stream",
     "text": [
      "Confusion matrix by sklearn\n"
     ]
    },
    {
     "data": {
      "text/plain": [
       "array([[ 963,    0,    0,    3,    1,    3,    4,    4,    2,    0],\n",
       "       [   0, 1112,    4,    2,    0,    1,    3,    2,   11,    0],\n",
       "       [   3,   10,  926,   15,    6,    4,   15,    8,   42,    3],\n",
       "       [   4,    1,   21,  916,    1,   26,    3,    9,   22,    7],\n",
       "       [   1,    1,    7,    3,  910,    0,    9,    7,   10,   34],\n",
       "       [  11,    2,    1,   33,   11,  776,   11,    6,   35,    6],\n",
       "       [   9,    3,    7,    3,    7,   16,  910,    2,    1,    0],\n",
       "       [   1,    6,   24,    5,    7,    1,    0,  951,    3,   30],\n",
       "       [   8,    7,    6,   23,    6,   26,   10,   10,  869,    9],\n",
       "       [   9,    7,    0,   11,   25,    6,    0,   22,    7,  922]],\n",
       "      dtype=int64)"
      ]
     },
     "execution_count": 32,
     "metadata": {},
     "output_type": "execute_result"
    }
   ],
   "source": [
    "# Confusion matrix by sklearn\n",
    "\n",
    "con_mat_sl = confusion_matrix(y_test, model.predict(x_test))\n",
    "print(\"Confusion matrix by sklearn\")\n",
    "con_mat_sl"
   ]
  },
  {
   "cell_type": "code",
   "execution_count": 33,
   "id": "94e9a0d1",
   "metadata": {
    "id": "94e9a0d1",
    "outputId": "3c6b6794-b5fa-47fb-8747-03ce805295a5"
   },
   "outputs": [
    {
     "name": "stdout",
     "output_type": "stream",
     "text": [
      "Confusion matrix from Scratch\n"
     ]
    },
    {
     "data": {
      "text/plain": [
       "array([[ 963,    0,    0,    3,    1,    3,    4,    4,    2,    0],\n",
       "       [   0, 1112,    4,    2,    0,    1,    3,    2,   11,    0],\n",
       "       [   3,   10,  926,   15,    6,    4,   15,    8,   42,    3],\n",
       "       [   4,    1,   21,  916,    1,   26,    3,    9,   22,    7],\n",
       "       [   1,    1,    7,    3,  910,    0,    9,    7,   10,   34],\n",
       "       [  11,    2,    1,   33,   11,  776,   11,    6,   35,    6],\n",
       "       [   9,    3,    7,    3,    7,   16,  910,    2,    1,    0],\n",
       "       [   1,    6,   24,    5,    7,    1,    0,  951,    3,   30],\n",
       "       [   0,    7,    6,   23,    6,   26,   10,   10,  877,    9],\n",
       "       [   9,    7,    0,   11,   25,    6,    0,   22,    7,  922]],\n",
       "      dtype=int64)"
      ]
     },
     "execution_count": 33,
     "metadata": {},
     "output_type": "execute_result"
    }
   ],
   "source": [
    "# Confusion matrix from scratch\n",
    "\n",
    "con_mat = np.zeros((10,10),dtype = 'int64')\n",
    "\n",
    "for i in range(len(y_test)):\n",
    "    if y_test[i]==0:\n",
    "        if y_test[i]==y_pred[i]:\n",
    "            con_mat[0][0] += 1\n",
    "        elif y_pred[i] == 1:\n",
    "            con_mat[0][1] += 1\n",
    "        elif y_pred[i] == 2:\n",
    "            con_mat[0][2] += 1\n",
    "        elif y_pred[i] == 3:\n",
    "            con_mat[0][3] += 1\n",
    "        elif y_pred[i] == 4:\n",
    "            con_mat[0][4] += 1\n",
    "        elif y_pred[i] == 5:\n",
    "            con_mat[0][5] += 1\n",
    "        elif y_pred[i] == 6:\n",
    "            con_mat[0][6] += 1\n",
    "        elif y_pred[i]==7:\n",
    "            con_mat[0][7] += 1\n",
    "        elif y_pred[i]==8:\n",
    "            con_mat[0][8] += 1\n",
    "        elif y_pred[i]==9:\n",
    "            con_mat[0][9] += 1\n",
    "        else:\n",
    "            continue\n",
    "    elif y_test[i]==1:\n",
    "        if y_test[i]==y_pred[i]:\n",
    "            con_mat[1][1] += 1\n",
    "        elif y_pred[i] == 0:\n",
    "            con_mat[1][0] += 1\n",
    "        elif y_pred[i] == 2:\n",
    "            con_mat[1][2] += 1\n",
    "        elif y_pred[i] == 3:\n",
    "            con_mat[1][3] += 1\n",
    "        elif y_pred[i] == 4:\n",
    "            con_mat[1][4] += 1\n",
    "        elif y_pred[i] == 5:\n",
    "            con_mat[1][5] += 1\n",
    "        elif y_pred[i] == 6:\n",
    "            con_mat[1][6] += 1\n",
    "        elif y_pred[i]==7:\n",
    "            con_mat[1][7] += 1\n",
    "        elif y_pred[i]==8:\n",
    "            con_mat[1][8] += 1\n",
    "        elif y_pred[i]==9:\n",
    "            con_mat[1][9] += 1\n",
    "        else:\n",
    "            continue \n",
    "    elif y_test[i]==2:\n",
    "        if y_test[i]==y_pred[i]:\n",
    "            con_mat[2][2] += 1\n",
    "        elif y_pred[i] == 1:\n",
    "            con_mat[2][1] += 1\n",
    "        elif y_pred[i] == 0:\n",
    "            con_mat[2][0] += 1\n",
    "        elif y_pred[i] == 3:\n",
    "            con_mat[2][3] += 1\n",
    "        elif y_pred[i] == 4:\n",
    "            con_mat[2][4] += 1\n",
    "        elif y_pred[i] == 5:\n",
    "            con_mat[2][5] += 1\n",
    "        elif y_pred[i] == 6:\n",
    "            con_mat[2][6] += 1\n",
    "        elif y_pred[i]==7:\n",
    "            con_mat[2][7] += 1\n",
    "        elif y_pred[i]==8:\n",
    "            con_mat[2][8] += 1\n",
    "        elif y_pred[i]==9:\n",
    "            con_mat[2][9] += 1\n",
    "        else:\n",
    "            continue\n",
    "    elif y_test[i]==3:\n",
    "        if y_test[i]==y_pred[i]:\n",
    "            con_mat[3][3] += 1\n",
    "        elif y_pred[i] == 1:\n",
    "            con_mat[3][1] += 1\n",
    "        elif y_pred[i] == 2:\n",
    "            con_mat[3][2] += 1\n",
    "        elif y_pred[i] == 0:\n",
    "            con_mat[3][0] += 1\n",
    "        elif y_pred[i] == 4:\n",
    "            con_mat[3][4] += 1\n",
    "        elif y_pred[i] == 5:\n",
    "            con_mat[3][5] += 1\n",
    "        elif y_pred[i] == 6:\n",
    "            con_mat[3][6] += 1\n",
    "        elif y_pred[i]==7:\n",
    "            con_mat[3][7] += 1\n",
    "        elif y_pred[i]==8:\n",
    "            con_mat[3][8] += 1\n",
    "        elif y_pred[i]==9:\n",
    "            con_mat[3][9] += 1\n",
    "        else:\n",
    "            continue \n",
    "    elif y_test[i]==4:\n",
    "        if y_test[i]==y_pred[i]:\n",
    "            con_mat[4][4] += 1\n",
    "        elif y_pred[i] == 1:\n",
    "            con_mat[4][1] += 1\n",
    "        elif y_pred[i] == 2:\n",
    "            con_mat[4][2] += 1\n",
    "        elif y_pred[i] == 3:\n",
    "            con_mat[4][3] += 1\n",
    "        elif y_pred[i] == 0:\n",
    "            con_mat[4][0] += 1\n",
    "        elif y_pred[i] == 5:\n",
    "            con_mat[4][5] += 1\n",
    "        elif y_pred[i] == 6:\n",
    "            con_mat[4][6] += 1\n",
    "        elif y_pred[i]==7:\n",
    "            con_mat[4][7] += 1\n",
    "        elif y_pred[i]==8:\n",
    "            con_mat[4][8] += 1\n",
    "        elif y_pred[i]==9:\n",
    "            con_mat[4][9] += 1\n",
    "        else:\n",
    "            continue\n",
    "    elif y_test[i]==5:\n",
    "        if y_test[i]==y_pred[i]:\n",
    "            con_mat[5][5] += 1\n",
    "        elif y_pred[i] == 1:\n",
    "            con_mat[5][1] += 1\n",
    "        elif y_pred[i] == 2:\n",
    "            con_mat[5][2] += 1\n",
    "        elif y_pred[i] == 3:\n",
    "            con_mat[5][3] += 1\n",
    "        elif y_pred[i] == 4:\n",
    "            con_mat[5][4] += 1\n",
    "        elif y_pred[i] == 0:\n",
    "            con_mat[5][0] += 1\n",
    "        elif y_pred[i] == 6:\n",
    "            con_mat[5][6] += 1\n",
    "        elif y_pred[i]==7:\n",
    "            con_mat[5][7] += 1\n",
    "        elif y_pred[i]==8:\n",
    "            con_mat[5][8] += 1\n",
    "        elif y_pred[i]==9:\n",
    "            con_mat[5][9] += 1\n",
    "        else:\n",
    "            continue\n",
    "            \n",
    "    elif y_test[i]==6:\n",
    "        if y_test[i]==y_pred[i]:\n",
    "            con_mat[6][6] += 1\n",
    "        elif y_pred[i] == 1:\n",
    "            con_mat[6][1] += 1\n",
    "        elif y_pred[i] == 2:\n",
    "            con_mat[6][2] += 1\n",
    "        elif y_pred[i] == 3:\n",
    "            con_mat[6][3] += 1\n",
    "        elif y_pred[i] == 4:\n",
    "            con_mat[6][4] += 1\n",
    "        elif y_pred[i] == 5:\n",
    "            con_mat[6][5] += 1\n",
    "        elif y_pred[i] == 0:\n",
    "            con_mat[6][0] += 1\n",
    "        elif y_pred[i]==7:\n",
    "            con_mat[6][7] += 1\n",
    "        elif y_pred[i]==8:\n",
    "            con_mat[6][8] += 1\n",
    "        elif y_pred[i]==9:\n",
    "            con_mat[6][9] += 1\n",
    "        else:\n",
    "            continue\n",
    "    elif y_test[i]==7:\n",
    "        if y_test[i]==y_pred[i]:\n",
    "            con_mat[7][7] += 1\n",
    "        elif y_pred[i] == 1:\n",
    "            con_mat[7][1] += 1\n",
    "        elif y_pred[i] == 2:\n",
    "            con_mat[7][2] += 1\n",
    "        elif y_pred[i] == 3:\n",
    "            con_mat[7][3] += 1\n",
    "        elif y_pred[i] == 4:\n",
    "            con_mat[7][4] += 1\n",
    "        elif y_pred[i] == 5:\n",
    "            con_mat[7][5] += 1\n",
    "        elif y_pred[i] == 6:\n",
    "            con_mat[7][6] += 1\n",
    "        elif y_pred[i]==0:\n",
    "            con_mat[7][0] += 1\n",
    "        elif y_pred[i]==8:\n",
    "            con_mat[7][8] += 1\n",
    "        elif y_pred[i]==9:\n",
    "            con_mat[7][9] += 1\n",
    "        else:\n",
    "            continue\n",
    "    elif y_test[i]==8:\n",
    "        if y_test[i]==y_pred[i]:\n",
    "            con_mat[8][8] += 1\n",
    "        elif y_pred[i] == 1:\n",
    "            con_mat[8][1] += 1\n",
    "        elif y_pred[i] == 2:\n",
    "            con_mat[8][2] += 1\n",
    "        elif y_pred[i] == 3:\n",
    "            con_mat[8][3] += 1\n",
    "        elif y_pred[i] == 4:\n",
    "            con_mat[8][4] += 1\n",
    "        elif y_pred[i] == 5:\n",
    "            con_mat[8][5] += 1\n",
    "        elif y_pred[i] == 6:\n",
    "            con_mat[8][6] += 1\n",
    "        elif y_pred[i]==7:\n",
    "            con_mat[8][7] += 1\n",
    "        elif y_pred[i]==0:\n",
    "            con_mat[8][8] += 1\n",
    "        elif y_pred[i]==9:\n",
    "            con_mat[8][9] += 1\n",
    "        else:\n",
    "            continue\n",
    "    else:\n",
    "        if y_test[i]==y_pred[i]:\n",
    "            con_mat[9][9] += 1\n",
    "        elif y_pred[i] == 1:\n",
    "            con_mat[9][1] += 1\n",
    "        elif y_pred[i] == 2:\n",
    "            con_mat[9][2] += 1\n",
    "        elif y_pred[i] == 3:\n",
    "            con_mat[9][3] += 1\n",
    "        elif y_pred[i] == 4:\n",
    "            con_mat[9][4] += 1\n",
    "        elif y_pred[i] == 5:\n",
    "            con_mat[9][5] += 1\n",
    "        elif y_pred[i] == 6:\n",
    "            con_mat[9][6] += 1\n",
    "        elif y_pred[i]==7:\n",
    "            con_mat[9][7] += 1\n",
    "        elif y_pred[i]==8:\n",
    "            con_mat[9][8] += 1\n",
    "        elif y_pred[i]==0:\n",
    "            con_mat[9][0] += 1\n",
    "        else:\n",
    "            continue \n",
    "\n",
    "\n",
    "            \n",
    "print(\"Confusion matrix from Scratch\")\n",
    "con_mat"
   ]
  },
  {
   "cell_type": "code",
   "execution_count": 34,
   "id": "398fb1d5",
   "metadata": {
    "id": "398fb1d5",
    "outputId": "5bee3305-e0d5-493d-9bde-cdc66765221e"
   },
   "outputs": [
    {
     "data": {
      "image/png": "[encoded data removed]",
      "text/plain": [
       "<Figure size 1200x1200 with 1 Axes>"
      ]
     },
     "metadata": {},
     "output_type": "display_data"
    }
   ],
   "source": [
    "# Confusion matrix Plot by matplotlib.pyplot\n",
    "\n",
    "cm = con_mat\n",
    "fig, ax = plt.subplots(figsize=(12,12))\n",
    "ax.imshow(cm)\n",
    "ax.grid(False)\n",
    "ax.xaxis.set(ticks=(0,1,2,3,4,5,6,7,8,9), ticklabels=('Predicted 0s', 'Predicted 1s','Predicted 2s','Predicted 3s', 'Predicted 4s','Predicted 5s','Predicted 6s', 'Predicted 7s','Predicted 8s','Predicted 9s'))\n",
    "ax.yaxis.set(ticks=(0,1,2,3,4,5,6,7,8,9), ticklabels=('Actual 0s', 'Actual 1s','Actual 2s','Actual 3s', 'Actual 4s','Actual 5s', 'Actual 6s','Actual 7s','Actual 8s', 'Actual 9s'))\n",
    "for i in range(10):\n",
    "    for j in range(10):\n",
    "        ax.text(j, i, cm[i, j], ha='center', va='center', color='red')\n",
    "plt.show()"
   ]
  },
  {
   "cell_type": "code",
   "execution_count": 35,
   "id": "b39bb795",
   "metadata": {
    "id": "b39bb795",
    "outputId": "2bab3754-a257-41a8-8942-068d2e927b62"
   },
   "outputs": [
    {
     "name": "stdout",
     "output_type": "stream",
     "text": [
      "Report by Sklearn\n",
      "              precision    recall  f1-score   support\n",
      "\n",
      "           0       0.95      0.98      0.97       980\n",
      "           1       0.97      0.98      0.97      1135\n",
      "           2       0.93      0.90      0.91      1032\n",
      "           3       0.90      0.91      0.91      1010\n",
      "           4       0.93      0.93      0.93       982\n",
      "           5       0.90      0.87      0.89       892\n",
      "           6       0.94      0.95      0.95       958\n",
      "           7       0.93      0.93      0.93      1028\n",
      "           8       0.87      0.89      0.88       974\n",
      "           9       0.91      0.91      0.91      1009\n",
      "\n",
      "    accuracy                           0.93     10000\n",
      "   macro avg       0.92      0.92      0.92     10000\n",
      "weighted avg       0.93      0.93      0.93     10000\n",
      "\n"
     ]
    }
   ],
   "source": [
    "# Report by Sklearn\n",
    "\n",
    "print(\"Report by Sklearn\")\n",
    "print(classification_report(y_test, model.predict(x_test)))"
   ]
  },
  {
   "cell_type": "code",
   "execution_count": 36,
   "id": "ca87ae57",
   "metadata": {
    "id": "ca87ae57",
    "outputId": "89caa7e5-a739-4179-8acc-3ba1fb32f90e"
   },
   "outputs": [
    {
     "name": "stdout",
     "output_type": "stream",
     "text": [
      "Class Wise Precision from scratch\n",
      "Class0 0.96\n",
      "Class1 0.97\n",
      "Class2 0.93\n",
      "Class3 0.9\n",
      "Class4 0.93\n",
      "Class5 0.9\n",
      "Class6 0.94\n",
      "Class7 0.93\n",
      "Class8 0.87\n",
      "Class9 0.91\n"
     ]
    }
   ],
   "source": [
    "# Class Wise Precision from scratch\n",
    "\n",
    "precision0 = ((cm[0,0]/(cm[0,0]+cm[1,0]+cm[2,0]+cm[3,0]+cm[4,0]+cm[5,0]+cm[6,0]+cm[7,0]+cm[8,0]+cm[9,0]))).round(2)\n",
    "precision1 = ((cm[1,1]/(cm[0,1]+cm[1,1]+cm[2,1]+cm[3,1]+cm[4,1]+cm[5,1]+cm[6,1]+cm[7,1]+cm[8,1]+cm[9,1]))).round(2)\n",
    "precision2 = ((cm[2,2]/(cm[0,2]+cm[1,2]+cm[2,2]+cm[3,2]+cm[4,2]+cm[5,2]+cm[6,2]+cm[7,2]+cm[8,2]+cm[9,2]))).round(2)\n",
    "precision3 = ((cm[3,3]/(cm[0,3]+cm[1,3]+cm[2,3]+cm[3,3]+cm[4,3]+cm[5,3]+cm[6,3]+cm[7,3]+cm[8,3]+cm[9,3]))).round(2)\n",
    "precision4 = ((cm[4,4]/(cm[0,4]+cm[1,4]+cm[2,4]+cm[3,4]+cm[4,4]+cm[5,4]+cm[6,4]+cm[7,4]+cm[8,4]+cm[9,4]))).round(2)\n",
    "precision5 = ((cm[5,5]/(cm[0,5]+cm[1,5]+cm[2,5]+cm[3,5]+cm[4,5]+cm[5,5]+cm[6,5]+cm[7,5]+cm[8,5]+cm[9,5]))).round(2)\n",
    "precision6 = ((cm[6,6]/(cm[0,6]+cm[1,6]+cm[2,6]+cm[3,6]+cm[4,6]+cm[5,6]+cm[6,6]+cm[7,6]+cm[8,6]+cm[9,6]))).round(2)\n",
    "precision7 = ((cm[7,7]/(cm[0,7]+cm[1,7]+cm[2,7]+cm[3,7]+cm[4,7]+cm[5,7]+cm[6,7]+cm[7,7]+cm[8,7]+cm[9,7]))).round(2)\n",
    "precision8 = ((cm[8,8]/(cm[0,8]+cm[1,8]+cm[2,8]+cm[3,8]+cm[4,8]+cm[5,8]+cm[6,8]+cm[7,8]+cm[8,8]+cm[9,8]))).round(2)\n",
    "precision9 = ((cm[9,9]/(cm[0,9]+cm[1,9]+cm[2,9]+cm[3,9]+cm[4,9]+cm[5,9]+cm[6,9]+cm[7,9]+cm[8,9]+cm[9,9]))).round(2)\n",
    "\n",
    "print(\"Class Wise Precision from scratch\")\n",
    "print(\"Class0\",precision0)\n",
    "print(\"Class1\",precision1)\n",
    "print(\"Class2\",precision2)\n",
    "print(\"Class3\",precision3)\n",
    "print(\"Class4\",precision4)\n",
    "print(\"Class5\",precision5)\n",
    "print(\"Class6\",precision6)\n",
    "print(\"Class7\",precision7)\n",
    "print(\"Class8\",precision8)\n",
    "print(\"Class9\",precision9)"
   ]
  },
  {
   "cell_type": "code",
   "execution_count": 37,
   "id": "0fa08209",
   "metadata": {
    "id": "0fa08209",
    "outputId": "361a3466-69e4-4994-a014-1b51dfe0ebee"
   },
   "outputs": [
    {
     "name": "stdout",
     "output_type": "stream",
     "text": [
      "Class Wise Recall from scratch\n",
      "Class0 0.98\n",
      "Class1 0.98\n",
      "Class2 0.9\n",
      "Class3 0.91\n",
      "Class4 0.93\n",
      "Class5 0.87\n",
      "Class6 0.95\n",
      "Class7 0.93\n",
      "Class8 0.9\n",
      "Class9 0.91\n"
     ]
    }
   ],
   "source": [
    "# Classwise recall from Scratch\n",
    "\n",
    "recall0 = ((cm[0,0]/(cm[0,0]+cm[0,1]+cm[0,2]+cm[0,3]+cm[0,4]+cm[0,5]+cm[0,6]+cm[0,7]+cm[0,8]+cm[0,9]))).round(2)\n",
    "recall1 = ((cm[1,1]/(cm[1,0]+cm[1,1]+cm[1,2]+cm[1,3]+cm[1,4]+cm[1,5]+cm[1,6]+cm[1,7]+cm[1,8]+cm[1,9]))).round(2)\n",
    "recall2 = ((cm[2,2]/(cm[2,0]+cm[2,1]+cm[2,2]+cm[2,3]+cm[2,4]+cm[2,5]+cm[2,6]+cm[2,7]+cm[2,8]+cm[2,9]))).round(2)\n",
    "recall3 = ((cm[3,3]/(cm[3,0]+cm[3,1]+cm[3,2]+cm[3,3]+cm[3,4]+cm[3,5]+cm[3,6]+cm[3,7]+cm[3,8]+cm[3,9]))).round(2)\n",
    "recall4 = ((cm[4,4]/(cm[4,0]+cm[4,1]+cm[4,2]+cm[4,3]+cm[4,4]+cm[4,5]+cm[4,6]+cm[4,7]+cm[4,8]+cm[4,9]))).round(2)\n",
    "recall5 = ((cm[5,5]/(cm[5,0]+cm[5,1]+cm[5,2]+cm[5,3]+cm[5,4]+cm[5,5]+cm[5,6]+cm[5,7]+cm[5,8]+cm[5,9]))).round(2)\n",
    "recall6 = ((cm[6,6]/(cm[6,0]+cm[6,1]+cm[6,2]+cm[6,3]+cm[6,4]+cm[6,5]+cm[6,6]+cm[6,7]+cm[6,8]+cm[6,9]))).round(2)\n",
    "recall7 = ((cm[7,7]/(cm[7,0]+cm[7,1]+cm[7,2]+cm[7,3]+cm[7,4]+cm[7,5]+cm[7,6]+cm[7,7]+cm[7,8]+cm[7,9]))).round(2)\n",
    "recall8 = ((cm[8,8]/(cm[8,0]+cm[8,1]+cm[8,2]+cm[8,3]+cm[8,4]+cm[8,5]+cm[8,6]+cm[8,7]+cm[8,8]+cm[8,9]))).round(2)\n",
    "recall9 = ((cm[9,9]/(cm[9,0]+cm[9,1]+cm[9,2]+cm[9,3]+cm[9,4]+cm[9,5]+cm[9,6]+cm[9,7]+cm[9,8]+cm[9,9]))).round(2)\n",
    "\n",
    "print(\"Class Wise Recall from scratch\")\n",
    "print(\"Class0\",recall0)\n",
    "print(\"Class1\",recall1)\n",
    "print(\"Class2\",recall2)\n",
    "print(\"Class3\",recall3)\n",
    "print(\"Class4\",recall4)\n",
    "print(\"Class5\",recall5)\n",
    "print(\"Class6\",recall6)\n",
    "print(\"Class7\",recall7)\n",
    "print(\"Class8\",recall8)\n",
    "print(\"Class9\",recall9)"
   ]
  },
  {
   "cell_type": "code",
   "execution_count": 38,
   "id": "312ea291",
   "metadata": {
    "id": "312ea291",
    "outputId": "3b9816e2-4f9a-4fc8-c0b9-80989cd565ec"
   },
   "outputs": [
    {
     "name": "stdout",
     "output_type": "stream",
     "text": [
      "Class Wise F1 Score from scratch\n",
      "Class0 0.97\n",
      "Class1 0.97\n",
      "Class2 0.91\n",
      "Class3 0.9\n",
      "Class4 0.93\n",
      "Class5 0.88\n",
      "Class6 0.94\n",
      "Class7 0.93\n",
      "Class8 0.88\n",
      "Class9 0.91\n"
     ]
    }
   ],
   "source": [
    "# Class Wise F1 Score from scratch\n",
    "\n",
    "f10 = (2*(precision0*recall0)/(precision0+recall0)).round(2)\n",
    "f11 = (2*(precision1*recall1)/(precision1+recall1)).round(2)\n",
    "f12 = (2*(precision2*recall2)/(precision2+recall2)).round(2)\n",
    "f13 = (2*(precision3*recall3)/(precision3+recall3)).round(2)\n",
    "f14 = (2*(precision4*recall4)/(precision4+recall4)).round(2)\n",
    "f15 = (2*(precision5*recall5)/(precision5+recall5)).round(2)\n",
    "f16 = (2*(precision6*recall6)/(precision6+recall6)).round(2)\n",
    "f17 = (2*(precision7*recall7)/(precision7+recall7)).round(2)\n",
    "f18 = (2*(precision8*recall8)/(precision8+recall8)).round(2)\n",
    "f19 = (2*(precision9*recall9)/(precision9+recall9)).round(2)\n",
    "\n",
    "print(\"Class Wise F1 Score from scratch\")\n",
    "print(\"Class0\",f10)\n",
    "print(\"Class1\",f11)\n",
    "print(\"Class2\",f12)\n",
    "print(\"Class3\",f13)\n",
    "print(\"Class4\",f14)\n",
    "print(\"Class5\",f15)\n",
    "print(\"Class6\",f16)\n",
    "print(\"Class7\",f17)\n",
    "print(\"Class8\",f18)\n",
    "print(\"Class9\",f19)"
   ]
  },
  {
   "cell_type": "markdown",
   "id": "aed326f8",
   "metadata": {},
   "source": [
    "# Thank You"
   ]
  },
  {
   "cell_type": "code",
   "execution_count": null,
   "id": "5b024269",
   "metadata": {},
   "outputs": [],
   "source": []
  }
 ],
 "metadata": {
  "colab": {
   "provenance": []
  },
  "kernelspec": {
   "display_name": "Python 3 (ipykernel)",
   "language": "python",
   "name": "python3"
  },
  "language_info": {
   "codemirror_mode": {
    "name": "ipython",
    "version": 3
   },
   "file_extension": ".py",
   "mimetype": "text/x-python",
   "name": "python",
   "nbconvert_exporter": "python",
   "pygments_lexer": "ipython3",
   "version": "3.9.15"
  }
 },
 "nbformat": 4,
 "nbformat_minor": 5
}
