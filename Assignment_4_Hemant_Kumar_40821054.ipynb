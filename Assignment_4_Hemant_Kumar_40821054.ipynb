{
 "cells": [
  {
   "cell_type": "markdown",
   "id": "27580476",
   "metadata": {},
   "source": [
    "# Assignment 4"
   ]
  },
  {
   "cell_type": "code",
   "execution_count": 1,
   "id": "4836c9f1",
   "metadata": {},
   "outputs": [
    {
     "name": "stdout",
     "output_type": "stream",
     "text": [
      "Imported Successfully\n"
     ]
    }
   ],
   "source": [
    "try:\n",
    "    import pandas as pd\n",
    "    import numpy as np\n",
    "    print(\"Imported Successfully\")\n",
    "except:\n",
    "    print(\"Something went wrong\")"
   ]
  },
  {
   "cell_type": "code",
   "execution_count": 2,
   "id": "d05592c8",
   "metadata": {},
   "outputs": [
    {
     "data": {
      "text/plain": [
       "{0, 1, 2, 3, 4, 5, 6, 7, 8, 9}"
      ]
     },
     "execution_count": 2,
     "metadata": {},
     "output_type": "execute_result"
    }
   ],
   "source": [
    "test_mnist = pd.read_csv(\"mnist_test.csv\")\n",
    "train_mnist = pd.read_csv(\"mnist_train.csv\")\n",
    "uni_class = set(train_mnist['label'])\n",
    "uni_class"
   ]
  },
  {
   "cell_type": "code",
   "execution_count": 3,
   "id": "5121088f",
   "metadata": {},
   "outputs": [
    {
     "name": "stdout",
     "output_type": "stream",
     "text": [
      "Correct results =  8203\n",
      "Incorrect results =  1797\n",
      "Overall Accuracy of our KNN algorithm for MNIST data is = 82.03 %\n"
     ]
    }
   ],
   "source": [
    "np_train_data = np.array(np.zeros((60000,785)),dtype=\"int\")\n",
    "x_test = np.array(np.zeros((10000,784)),dtype=\"int\")\n",
    "y_test = np.array(np.zeros((10000,)),dtype=\"int\")\n",
    "for i in range(len(train_mnist)):\n",
    "    np_train_data[i] = train_mnist.iloc[i][:]\n",
    "    \n",
    "for j in range(len(test_mnist)):\n",
    "    x_test[j] = test_mnist.iloc[j][1:]\n",
    "    y_test[j] = test_mnist.iloc[j][0]\n",
    "    \n",
    "clusters = {}\n",
    "for val in uni_class:\n",
    "     clusters[val]=np_train_data[np.where(np_train_data[:,0]==val)][:,1:]\n",
    "        \n",
    "c = [f\"mean{val}\" for val in uni_class]\n",
    "mean = [np.mean(clusters[digit],axis = 0) for digit in uni_class]\n",
    "means = dict(zip(c,mean))\n",
    "\n",
    "def test(x_test):\n",
    "    x = [val for val in clusters.keys()]\n",
    "    y = []\n",
    "    for val in means.keys():\n",
    "        y.append(np.sqrt(np.sum(np.square(np.subtract(means[val],x_test)))).round(3))\n",
    "    dis = dict(zip(x,y))\n",
    "    for key in dis.keys():\n",
    "        if dis[key]==min(dis.values()):\n",
    "            return key\n",
    "        \n",
    "mlp_op = np.empty(0)\n",
    "for data_point in x_test:\n",
    "    mlp_op = np.append(mlp_op,test(data_point))\n",
    "    \n",
    "correct = 0\n",
    "incorrect = 0\n",
    "for i in range(len(mlp_op)):\n",
    "    if mlp_op[i]==y_test[i]:\n",
    "        correct+=1\n",
    "    else:\n",
    "        incorrect+=1\n",
    "print('Correct results = ',correct)\n",
    "print('Incorrect results = ',incorrect)\n",
    "accuracy = np.multiply(np.divide(correct,len(y_test)),100)\n",
    "print(f\"Overall Accuracy of our KNN algorithm for MNIST data is = {accuracy} %\")"
   ]
  },
  {
   "cell_type": "code",
   "execution_count": 4,
   "id": "8b36c487",
   "metadata": {},
   "outputs": [
    {
     "name": "stdout",
     "output_type": "stream",
     "text": [
      "Total of number of 0 class =  980\n",
      "correct results for 0 class =  878\n",
      "incorrect results for 0 class =  102\n",
      "Accuracy of our KNN algorithm for MNIST data with 0 class is = 89.59 %\n",
      "Total of number of 1 class =  1135\n",
      "correct results for 1 class =  1092\n",
      "incorrect results for 1 class =  43\n",
      "Accuracy of our KNN algorithm for MNIST data with 1 class is = 96.21 %\n",
      "Total of number of 2 class =  1032\n",
      "correct results for 2 class =  781\n",
      "incorrect results for 2 class =  251\n",
      "Accuracy of our KNN algorithm for MNIST data with 2 class is = 75.68 %\n",
      "Total of number of 3 class =  1010\n",
      "correct results for 3 class =  814\n",
      "incorrect results for 3 class =  196\n",
      "Accuracy of our KNN algorithm for MNIST data with 3 class is = 80.59 %\n",
      "Total of number of 4 class =  982\n",
      "correct results for 4 class =  811\n",
      "incorrect results for 4 class =  171\n",
      "Accuracy of our KNN algorithm for MNIST data with 4 class is = 82.59 %\n",
      "Total of number of 5 class =  892\n",
      "correct results for 5 class =  612\n",
      "incorrect results for 5 class =  280\n",
      "Accuracy of our KNN algorithm for MNIST data with 5 class is = 68.61 %\n",
      "Total of number of 6 class =  958\n",
      "correct results for 6 class =  827\n",
      "incorrect results for 6 class =  131\n",
      "Accuracy of our KNN algorithm for MNIST data with 6 class is = 86.33 %\n",
      "Total of number of 7 class =  1028\n",
      "correct results for 7 class =  856\n",
      "incorrect results for 7 class =  172\n",
      "Accuracy of our KNN algorithm for MNIST data with 7 class is = 83.27 %\n",
      "Total of number of 8 class =  974\n",
      "correct results for 8 class =  718\n",
      "incorrect results for 8 class =  256\n",
      "Accuracy of our KNN algorithm for MNIST data with 8 class is = 73.72 %\n",
      "Total of number of 9 class =  1009\n",
      "correct results for 9 class =  814\n",
      "incorrect results for 9 class =  195\n",
      "Accuracy of our KNN algorithm for MNIST data with 9 class is = 80.67 %\n"
     ]
    }
   ],
   "source": [
    "for i in np.unique(y_test):\n",
    "    correct,incorrect=0,0\n",
    "    for j in range(len(mlp_op)):\n",
    "        if y_test[j]==i:\n",
    "            if mlp_op[j]==y_test[j]:\n",
    "                correct+=1\n",
    "            else:\n",
    "                incorrect+=1\n",
    "    print(f'Total of number of {i} class = ',np.count_nonzero(y_test==i))\n",
    "    print(f'correct results for {i} class = ',correct)\n",
    "    print(f'incorrect results for {i} class = ',incorrect)\n",
    "    accuracy = np.multiply(np.divide(correct,np.count_nonzero(y_test==i)),100).round(2)\n",
    "    print(f\"Accuracy of our KNN algorithm for MNIST data with {i} class is = {accuracy} %\")"
   ]
  }
 ],
 "metadata": {
  "kernelspec": {
   "display_name": "Python 3 (ipykernel)",
   "language": "python",
   "name": "python3"
  },
  "language_info": {
   "codemirror_mode": {
    "name": "ipython",
    "version": 3
   },
   "file_extension": ".py",
   "mimetype": "text/x-python",
   "name": "python",
   "nbconvert_exporter": "python",
   "pygments_lexer": "ipython3",
   "version": "3.9.12"
  },
  "widgets": {
   "application/vnd.jupyter.widget-state+json": {
    "state": {},
    "version_major": 2,
    "version_minor": 0
   }
  }
 },
 "nbformat": 4,
 "nbformat_minor": 5
}
